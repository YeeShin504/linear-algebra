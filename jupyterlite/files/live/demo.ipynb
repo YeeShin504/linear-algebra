{
 "cells": [
  {
   "cell_type": "markdown",
   "id": "33259038",
   "metadata": {},
   "source": [
    "# Interactive Demonstration of Quickstart\n",
    "\n",
    "This interactive Jupyter notebook allows you to use the library without additional installation as it works within your browser. It does not require internet access once it is fully loaded so it is suitable for exams and other offline uses. \n",
    "\n",
    "[![Open in new tab](https://img.shields.io/badge/Open%20in%20new%20tab-blue?style=for-the-badge&logo=google-chrome&logoColor=white)](https://yeeshin504.github.io/linear-algebra/jupyterlite/notebooks/index.html?path=live/demo.ipynb)"
   ]
  },
  {
   "cell_type": "markdown",
   "id": "5d2bd49a",
   "metadata": {},
   "source": [
    "## 1. Installation"
   ]
  },
  {
   "cell_type": "code",
   "execution_count": null,
   "id": "113f5d52",
   "metadata": {},
   "outputs": [],
   "source": [
    "%pip install ma1522-linear-algebra\n",
    "from ma1522 import Matrix, display "
   ]
  },
  {
   "cell_type": "markdown",
   "id": "b4bac61e",
   "metadata": {},
   "source": [
    "## 2. Creating Matrices\n",
    "\n",
    "### From a List of Lists\n",
    "\n",
    "The most straightforward way to create a matrix is from a list of lists, where each inner list represents a row."
   ]
  },
  {
   "cell_type": "code",
   "execution_count": 2,
   "id": "597d552e",
   "metadata": {},
   "outputs": [
    {
     "data": {
      "text/latex": [
       "$\\displaystyle \\left[\\begin{array}{ccc}1 & 2 & 3\\\\4 & 5 & 6\\\\7 & 8 & 9\\end{array}\\right]$"
      ],
      "text/plain": [
       "Matrix([\n",
       "[1, 2, 3]\n",
       "[4, 5, 6]\n",
       "[7, 8, 9]\n",
       "])"
      ]
     },
     "metadata": {},
     "output_type": "display_data"
    }
   ],
   "source": [
    "A = Matrix([[1, 2, 3], \n",
    "            [4, 5, 6], \n",
    "            [7, 8, 9]])\n",
    "display(A)"
   ]
  },
  {
   "cell_type": "markdown",
   "id": "232c42c6",
   "metadata": {},
   "source": [
    "### From $\\rm\\LaTeX$\n",
    "\n",
    "A key feature of this library is the ability to create a matrix directly from a $\\rm\\LaTeX$ string. This is incredibly useful for copying matrices from online resources or textbooks."
   ]
  },
  {
   "cell_type": "code",
   "execution_count": 3,
   "id": "5c62af87",
   "metadata": {},
   "outputs": [
    {
     "data": {
      "text/latex": [
       "$\\displaystyle \\left[\\begin{matrix}1 & 2\\\\3 & 4\\end{matrix}\\right]$"
      ],
      "text/plain": [
       "⎡1  2⎤\n",
       "⎢    ⎥\n",
       "⎣3  4⎦"
      ]
     },
     "metadata": {},
     "output_type": "display_data"
    }
   ],
   "source": [
    "latex_expr = r\"\\begin{pmatrix} 1 & 2 \\\\ 3 & 4 \\end{pmatrix}\"\n",
    "B = Matrix.from_latex(latex_expr)"
   ]
  },
  {
   "cell_type": "markdown",
   "id": "cdabb4c9",
   "metadata": {},
   "source": [
    "### From String Representation\n",
    "\n",
    "You can also create a matrix from a string representation, similar to how you might define it in MATLAB."
   ]
  },
  {
   "cell_type": "code",
   "execution_count": 4,
   "id": "f0a01d72",
   "metadata": {},
   "outputs": [
    {
     "data": {
      "text/latex": [
       "$\\displaystyle \\left[\\begin{array}{ccc}1 & a & 3\\\\4 & b^{2} & 6\\\\7 & \\pi & 9\\end{array}\\right]$"
      ],
      "text/plain": [
       "Matrix([\n",
       "[1,    a, 3]\n",
       "[4, b**2, 6]\n",
       "[7,   pi, 9]\n",
       "])"
      ]
     },
     "metadata": {},
     "output_type": "display_data"
    }
   ],
   "source": [
    "C = Matrix.from_str(\"1 a 3; 4 b**2 6; 7 pi 9\")\n",
    "display(C)"
   ]
  },
  {
   "cell_type": "markdown",
   "id": "04c5350e",
   "metadata": {},
   "source": [
    "### Special Matrices\n",
    "\n",
    "You can also create special matrices easily.\n",
    "\n",
    "- **Identity Matrix:**"
   ]
  },
  {
   "cell_type": "code",
   "execution_count": 5,
   "id": "22a9295e",
   "metadata": {},
   "outputs": [
    {
     "data": {
      "text/latex": [
       "$\\displaystyle \\left[\\begin{array}{ccc}1 & 0 & 0\\\\0 & 1 & 0\\\\0 & 0 & 1\\end{array}\\right]$"
      ],
      "text/plain": [
       "Matrix([\n",
       "[1, 0, 0]\n",
       "[0, 1, 0]\n",
       "[0, 0, 1]\n",
       "])"
      ]
     },
     "metadata": {},
     "output_type": "display_data"
    }
   ],
   "source": [
    "I = Matrix.eye(3)\n",
    "display(I)"
   ]
  },
  {
   "cell_type": "markdown",
   "id": "ada76ee0",
   "metadata": {},
   "source": [
    "- **Zero Matrix:**"
   ]
  },
  {
   "cell_type": "code",
   "execution_count": 6,
   "id": "37bc2339",
   "metadata": {},
   "outputs": [
    {
     "data": {
      "text/latex": [
       "$\\displaystyle \\left[\\begin{array}{ccc}0 & 0 & 0\\\\0 & 0 & 0\\end{array}\\right]$"
      ],
      "text/plain": [
       "Matrix([\n",
       "[0, 0, 0]\n",
       "[0, 0, 0]\n",
       "])"
      ]
     },
     "metadata": {},
     "output_type": "display_data"
    }
   ],
   "source": [
    "Z = Matrix.zeros(2, 3)\n",
    "display(Z)"
   ]
  },
  {
   "cell_type": "markdown",
   "id": "d3bc2cdd",
   "metadata": {},
   "source": [
    "- **Symbolic Matrix:** Create a matrix with symbolic entries. This is useful to solve matrices whose entries are not known ahead of time."
   ]
  },
  {
   "cell_type": "code",
   "execution_count": 7,
   "id": "08330890",
   "metadata": {},
   "outputs": [
    {
     "data": {
      "text/latex": [
       "$\\displaystyle \\left[\\begin{matrix}s_{1,1} & s_{1,2}\\\\s_{2,1} & s_{2,2}\\end{matrix}\\right]$"
      ],
      "text/plain": [
       "Matrix([\n",
       "[s_1,1, s_1,2],\n",
       "[s_2,1, s_2,2]])"
      ]
     },
     "metadata": {},
     "output_type": "display_data"
    }
   ],
   "source": [
    "S = Matrix.create_unk_matrix(2, 2, 's')\n",
    "display(S)"
   ]
  },
  {
   "cell_type": "markdown",
   "id": "60ca2d7f",
   "metadata": {},
   "source": [
    "## 3. Basic Operations\n",
    "\n",
    "The `Matrix` class supports standard matrix operations."
   ]
  },
  {
   "cell_type": "code",
   "execution_count": 8,
   "id": "ef092178",
   "metadata": {},
   "outputs": [
    {
     "name": "stdout",
     "output_type": "stream",
     "text": [
      "A + B =\n"
     ]
    },
    {
     "data": {
      "text/latex": [
       "$\\displaystyle \\left[\\begin{array}{cc}6 & 8\\\\10 & 12\\end{array}\\right]$"
      ],
      "text/plain": [
       "Matrix([\n",
       "[ 6,  8]\n",
       "[10, 12]\n",
       "])"
      ]
     },
     "metadata": {},
     "output_type": "display_data"
    },
    {
     "name": "stdout",
     "output_type": "stream",
     "text": [
      "2 * A =\n"
     ]
    },
    {
     "data": {
      "text/latex": [
       "$\\displaystyle \\left[\\begin{array}{cc}2 & 4\\\\6 & 8\\end{array}\\right]$"
      ],
      "text/plain": [
       "Matrix([\n",
       "[2, 4]\n",
       "[6, 8]\n",
       "])"
      ]
     },
     "metadata": {},
     "output_type": "display_data"
    },
    {
     "name": "stdout",
     "output_type": "stream",
     "text": [
      "A @ B =\n"
     ]
    },
    {
     "data": {
      "text/latex": [
       "$\\displaystyle \\left[\\begin{array}{cc}19 & 22\\\\43 & 50\\end{array}\\right]$"
      ],
      "text/plain": [
       "Matrix([\n",
       "[19, 22]\n",
       "[43, 50]\n",
       "])"
      ]
     },
     "metadata": {},
     "output_type": "display_data"
    },
    {
     "name": "stdout",
     "output_type": "stream",
     "text": [
      "A^T =\n"
     ]
    },
    {
     "data": {
      "text/latex": [
       "$\\displaystyle \\left[\\begin{array}{cc}1 & 3\\\\2 & 4\\end{array}\\right]$"
      ],
      "text/plain": [
       "Matrix([\n",
       "[1, 3]\n",
       "[2, 4]\n",
       "])"
      ]
     },
     "metadata": {},
     "output_type": "display_data"
    }
   ],
   "source": [
    "A = Matrix([[1, 2], \n",
    "            [3, 4]])\n",
    "B = Matrix([[5, 6], \n",
    "            [7, 8]])\n",
    "\n",
    "# Addition\n",
    "print(\"A + B =\")\n",
    "display(A + B)\n",
    "\n",
    "# Scalar Multiplication\n",
    "print(\"2 * A =\")\n",
    "display(2 * A)\n",
    "\n",
    "# Matrix Multiplication\n",
    "print(\"A @ B =\")\n",
    "display(A @ B)\n",
    "\n",
    "# Transpose\n",
    "print(\"A^T =\")\n",
    "display(A.T)"
   ]
  },
  {
   "cell_type": "markdown",
   "id": "8719f66d",
   "metadata": {},
   "source": [
    "## 4. Solving Linear Systems\n",
    "\n",
    "Let's solve the matrix equation $\\mathbf{Ax} = \\mathbf{b}$."
   ]
  },
  {
   "cell_type": "code",
   "execution_count": 9,
   "id": "c235a7e6",
   "metadata": {},
   "outputs": [
    {
     "data": {
      "text/latex": [
       "$\\displaystyle \\left[\\begin{array}{c}- \\frac{1}{3}\\\\\\frac{2}{3}\\\\0\\end{array}\\right]$"
      ],
      "text/plain": [
       "Matrix([\n",
       "[-1/3]\n",
       "[ 2/3]\n",
       "[   0]\n",
       "])"
      ]
     },
     "metadata": {},
     "output_type": "display_data"
    }
   ],
   "source": [
    "A = Matrix([[1, 2, 3], \n",
    "            [4, 5, 5], \n",
    "            [7, 8, 9]])\n",
    "\n",
    "b = Matrix([1, \n",
    "            2, \n",
    "            3])\n",
    "\n",
    "# Solve directly\n",
    "x = A.solve(rhs=b)[0]\n",
    "display(x)"
   ]
  },
  {
   "cell_type": "markdown",
   "id": "b58304f7",
   "metadata": {},
   "source": [
    "### Using Row Reduction\n",
    "\n",
    "Alternatively, you can use row reduction on an augmented matrix.\n",
    "\n",
    "1.  **Create an augmented matrix:**"
   ]
  },
  {
   "cell_type": "code",
   "execution_count": 10,
   "id": "aaea8412",
   "metadata": {},
   "outputs": [
    {
     "data": {
      "text/latex": [
       "$\\displaystyle \\left[\\begin{array}{ccc|c}1 & 2 & 3 & 1\\\\4 & 5 & 5 & 2\\\\7 & 8 & 9 & 3\\end{array}\\right]$"
      ],
      "text/plain": [
       "Matrix([\n",
       "[1, 2, 3 | 1]\n",
       "[4, 5, 5 | 2]\n",
       "[7, 8, 9 | 3]\n",
       "])"
      ]
     },
     "metadata": {},
     "output_type": "display_data"
    }
   ],
   "source": [
    "augmented_matrix = A.aug_line().row_join(b)\n",
    "display(augmented_matrix)"
   ]
  },
  {
   "cell_type": "markdown",
   "id": "097fcdf4",
   "metadata": {},
   "source": [
    "The `aug_line()` method adds a visual separator.\n",
    "\n",
    "2.  **Compute the Reduced Row Echelon Form (RREF):**\n"
   ]
  },
  {
   "cell_type": "code",
   "execution_count": 11,
   "id": "6373c3c3",
   "metadata": {},
   "outputs": [
    {
     "data": {
      "text/latex": [
       "$\\text{RREF}\\left\\{\\text{rref} = \\left[\\begin{array}{ccc|c}1 & 0 & 0 & - \\frac{1}{3}\\\\0 & 1 & 0 & \\frac{2}{3}\\\\0 & 0 & 1 & 0\\end{array}\\right], \\quad\\text{pivots} = (0, 1, 2)\\right\\}$"
      ],
      "text/plain": [
       "RREF(rref=Matrix([\n",
       "[1, 0, 0 | -1/3]\n",
       "[0, 1, 0 |  2/3]\n",
       "[0, 0, 1 |    0]\n",
       "]), pivots=(0, 1, 2))"
      ]
     },
     "metadata": {},
     "output_type": "display_data"
    }
   ],
   "source": [
    "rref = augmented_matrix.rref()\n",
    "display(rref)"
   ]
  },
  {
   "cell_type": "markdown",
   "id": "2a9ae2e5",
   "metadata": {},
   "source": [
    "3.  **Step-by-step Row Echelon Form (REF):**\n",
    "    For a detailed, step-by-step reduction, use the `ref()` method with `verbosity`."
   ]
  },
  {
   "cell_type": "code",
   "execution_count": 12,
   "id": "9c73e0b0",
   "metadata": {},
   "outputs": [
    {
     "data": {
      "text/latex": [
       "$\\displaystyle R_2 - \\left(4\\right)R_1 \\rightarrow R_2$"
      ],
      "text/plain": [
       "<IPython.core.display.Math object>"
      ]
     },
     "metadata": {},
     "output_type": "display_data"
    },
    {
     "data": {
      "text/latex": [
       "$\\displaystyle \\left[\\begin{array}{ccc|c}1 & 2 & 3 & 1\\\\0 & -3 & -7 & -2\\\\7 & 8 & 9 & 3\\end{array}\\right]$"
      ],
      "text/plain": [
       "Matrix([\n",
       "[1,  2,  3 |  1]\n",
       "[0, -3, -7 | -2]\n",
       "[7,  8,  9 |  3]\n",
       "])"
      ]
     },
     "metadata": {},
     "output_type": "display_data"
    },
    {
     "name": "stdout",
     "output_type": "stream",
     "text": [
      "\n"
     ]
    },
    {
     "data": {
      "text/latex": [
       "$\\displaystyle R_3 - \\left(7\\right)R_1 \\rightarrow R_3$"
      ],
      "text/plain": [
       "<IPython.core.display.Math object>"
      ]
     },
     "metadata": {},
     "output_type": "display_data"
    },
    {
     "data": {
      "text/latex": [
       "$\\displaystyle \\left[\\begin{array}{ccc|c}1 & 2 & 3 & 1\\\\0 & -3 & -7 & -2\\\\0 & -6 & -12 & -4\\end{array}\\right]$"
      ],
      "text/plain": [
       "Matrix([\n",
       "[1,  2,   3 |  1]\n",
       "[0, -3,  -7 | -2]\n",
       "[0, -6, -12 | -4]\n",
       "])"
      ]
     },
     "metadata": {},
     "output_type": "display_data"
    },
    {
     "name": "stdout",
     "output_type": "stream",
     "text": [
      "\n"
     ]
    },
    {
     "data": {
      "text/latex": [
       "$\\displaystyle R_3 - \\left(2\\right)R_2 \\rightarrow R_3$"
      ],
      "text/plain": [
       "<IPython.core.display.Math object>"
      ]
     },
     "metadata": {},
     "output_type": "display_data"
    },
    {
     "data": {
      "text/latex": [
       "$\\displaystyle \\left[\\begin{array}{ccc|c}1 & 2 & 3 & 1\\\\0 & -3 & -7 & -2\\\\0 & 0 & 2 & 0\\end{array}\\right]$"
      ],
      "text/plain": [
       "Matrix([\n",
       "[1,  2,  3 |  1]\n",
       "[0, -3, -7 | -2]\n",
       "[0,  0,  2 |  0]\n",
       "])"
      ]
     },
     "metadata": {},
     "output_type": "display_data"
    },
    {
     "name": "stdout",
     "output_type": "stream",
     "text": [
      "\n"
     ]
    },
    {
     "data": {
      "text/latex": [
       "$\\left[\\begin{array}{ccc}1 & 0 & 0\\\\0 & 1 & 0\\\\0 & 0 & 1\\end{array}\\right]\\left[\\begin{array}{ccc}1 & 0 & 0\\\\4 & 1 & 0\\\\7 & 2 & 1\\end{array}\\right]\\left[\\begin{array}{cccc}1 & 2 & 3 & 1\\\\0 & -3 & -7 & -2\\\\0 & 0 & 2 & 0\\end{array}\\right]$"
      ],
      "text/plain": [
       "PLU(P=Matrix([\n",
       "[1, 0, 0]\n",
       "[0, 1, 0]\n",
       "[0, 0, 1]\n",
       "]), L=Matrix([\n",
       "[1, 0, 0]\n",
       "[4, 1, 0]\n",
       "[7, 2, 1]\n",
       "]), U=Matrix([\n",
       "[1,  2,  3,  1]\n",
       "[0, -3, -7, -2]\n",
       "[0,  0,  2,  0]\n",
       "]))"
      ]
     },
     "metadata": {},
     "output_type": "display_data"
    }
   ],
   "source": [
    "# verbosity=1 shows the operations\n",
    "# verbosity=2 shows the matrix at each step\n",
    "plu = augmented_matrix.ref(verbosity=2)\n",
    "display(plu)"
   ]
  },
  {
   "cell_type": "markdown",
   "id": "01170049",
   "metadata": {},
   "source": [
    "## 5. Advanced Topics\n",
    "\n",
    "The library provides functions for various advanced linear algebra concepts.\n",
    "\n",
    "### Eigenvalues and Eigenvectors"
   ]
  },
  {
   "cell_type": "code",
   "execution_count": 13,
   "id": "78b68b1b",
   "metadata": {},
   "outputs": [
    {
     "data": {
      "text/latex": [
       "$\\displaystyle \\left\\{ 2 : 2, \\  9 : 1\\right\\}$"
      ],
      "text/plain": [
       "{2: 2, 9: 1}"
      ]
     },
     "metadata": {},
     "output_type": "display_data"
    },
    {
     "data": {
      "text/latex": [
       "$\\displaystyle \\left[ \\left( 2, \\  2, \\  \\left[ \\left[\\begin{array}{c}\\frac{1}{2}\\\\1\\\\0\\end{array}\\right], \\  \\left[\\begin{array}{c}-3\\\\0\\\\1\\end{array}\\right]\\right]\\right), \\  \\left( 9, \\  1, \\  \\left[ \\left[\\begin{array}{c}1\\\\1\\\\1\\end{array}\\right]\\right]\\right)\\right]$"
      ],
      "text/plain": [
       "⎡⎛      ⎡⎡1/2⎤  ⎡-3⎤⎤⎞  ⎛      ⎡⎡1⎤⎤⎞⎤\n",
       "⎢⎜      ⎢⎢   ⎥  ⎢  ⎥⎥⎟  ⎜      ⎢⎢ ⎥⎥⎟⎥\n",
       "⎢⎜2, 2, ⎢⎢ 1 ⎥, ⎢0 ⎥⎥⎟, ⎜9, 1, ⎢⎢1⎥⎥⎟⎥\n",
       "⎢⎜      ⎢⎢   ⎥  ⎢  ⎥⎥⎟  ⎜      ⎢⎢ ⎥⎥⎟⎥\n",
       "⎣⎝      ⎣⎣ 0 ⎦  ⎣1 ⎦⎦⎠  ⎝      ⎣⎣1⎦⎦⎠⎦"
      ]
     },
     "metadata": {},
     "output_type": "display_data"
    }
   ],
   "source": [
    "A = Matrix([[4, -1, 6], \n",
    "            [2,  1, 6], \n",
    "            [2, -1, 8]])\n",
    "\n",
    "# Eigenvalues\n",
    "eigenvals = A.eigenvals()\n",
    "display(eigenvals)\n",
    "\n",
    "# Eigenvectors\n",
    "eigenvects = A.eigenvects()\n",
    "display(eigenvects)"
   ]
  },
  {
   "cell_type": "markdown",
   "id": "7704ed46",
   "metadata": {},
   "source": [
    "### Orthogonal Diagonalization\n",
    "\n",
    "For symmetric matrices, you can perform orthogonal diagonalization."
   ]
  },
  {
   "cell_type": "code",
   "execution_count": 14,
   "id": "c7d8ca55",
   "metadata": {},
   "outputs": [
    {
     "name": "stdout",
     "output_type": "stream",
     "text": [
      "Check if matrix is symmetric: True\n",
      "Characteristic Polynomial\n"
     ]
    },
    {
     "data": {
      "text/latex": [
       "$\\displaystyle \\left(x - 9\\right) \\left(x - 4\\right)^{2}$"
      ],
      "text/plain": [
       "               2\n",
       "(x - 9)⋅(x - 4) "
      ]
     },
     "metadata": {},
     "output_type": "display_data"
    },
    {
     "data": {
      "text/latex": [
       "$\\displaystyle \\text{Before RREF: }9\\mathbb{I} - \\mathrm{self}$"
      ],
      "text/plain": [
       "<IPython.core.display.Math object>"
      ]
     },
     "metadata": {},
     "output_type": "display_data"
    },
    {
     "data": {
      "text/latex": [
       "$\\displaystyle \\left[\\begin{array}{ccc}4 & 2 & 0\\\\2 & 1 & 0\\\\0 & 0 & 5\\end{array}\\right]$"
      ],
      "text/plain": [
       "Matrix([\n",
       "[4, 2, 0]\n",
       "[2, 1, 0]\n",
       "[0, 0, 5]\n",
       "])"
      ]
     },
     "metadata": {},
     "output_type": "display_data"
    },
    {
     "name": "stdout",
     "output_type": "stream",
     "text": [
      "\n",
      "After RREF:\n"
     ]
    },
    {
     "data": {
      "text/latex": [
       "$\\text{RREF}\\left\\{\\text{rref} = \\left[\\begin{array}{ccc}1 & \\frac{1}{2} & 0\\\\0 & 0 & 1\\\\0 & 0 & 0\\end{array}\\right], \\quad\\text{pivots} = (0, 2)\\right\\}$"
      ],
      "text/plain": [
       "RREF(rref=Matrix([\n",
       "[1, 1/2, 0]\n",
       "[0,   0, 1]\n",
       "[0,   0, 0]\n",
       "]), pivots=(0, 2))"
      ]
     },
     "metadata": {},
     "output_type": "display_data"
    },
    {
     "name": "stdout",
     "output_type": "stream",
     "text": [
      "\n",
      "Eigenvectors:\n"
     ]
    },
    {
     "data": {
      "text/latex": [
       "$\\displaystyle \\left[ \\left[\\begin{matrix}- \\frac{1}{2}\\\\1\\\\0\\end{matrix}\\right]\\right]$"
      ],
      "text/plain": [
       "⎡⎡-1/2⎤⎤\n",
       "⎢⎢    ⎥⎥\n",
       "⎢⎢ 1  ⎥⎥\n",
       "⎢⎢    ⎥⎥\n",
       "⎣⎣ 0  ⎦⎦"
      ]
     },
     "metadata": {},
     "output_type": "display_data"
    },
    {
     "name": "stdout",
     "output_type": "stream",
     "text": [
      "\n",
      "\n"
     ]
    },
    {
     "data": {
      "text/latex": [
       "$\\displaystyle \\text{Before RREF: }4\\mathbb{I} - \\mathrm{self}$"
      ],
      "text/plain": [
       "<IPython.core.display.Math object>"
      ]
     },
     "metadata": {},
     "output_type": "display_data"
    },
    {
     "data": {
      "text/latex": [
       "$\\displaystyle \\left[\\begin{array}{ccc}-1 & 2 & 0\\\\2 & -4 & 0\\\\0 & 0 & 0\\end{array}\\right]$"
      ],
      "text/plain": [
       "Matrix([\n",
       "[-1,  2, 0]\n",
       "[ 2, -4, 0]\n",
       "[ 0,  0, 0]\n",
       "])"
      ]
     },
     "metadata": {},
     "output_type": "display_data"
    },
    {
     "name": "stdout",
     "output_type": "stream",
     "text": [
      "\n",
      "After RREF:\n"
     ]
    },
    {
     "data": {
      "text/latex": [
       "$\\text{RREF}\\left\\{\\text{rref} = \\left[\\begin{array}{ccc}1 & -2 & 0\\\\0 & 0 & 0\\\\0 & 0 & 0\\end{array}\\right], \\quad\\text{pivots} = (0,)\\right\\}$"
      ],
      "text/plain": [
       "RREF(rref=Matrix([\n",
       "[1, -2, 0]\n",
       "[0,  0, 0]\n",
       "[0,  0, 0]\n",
       "]), pivots=(0,))"
      ]
     },
     "metadata": {},
     "output_type": "display_data"
    },
    {
     "name": "stdout",
     "output_type": "stream",
     "text": [
      "\n",
      "Eigenvectors:\n"
     ]
    },
    {
     "data": {
      "text/latex": [
       "$\\displaystyle \\left[ \\left[\\begin{matrix}2\\\\1\\\\0\\end{matrix}\\right], \\  \\left[\\begin{matrix}0\\\\0\\\\1\\end{matrix}\\right]\\right]$"
      ],
      "text/plain": [
       "⎡⎡2⎤  ⎡0⎤⎤\n",
       "⎢⎢ ⎥  ⎢ ⎥⎥\n",
       "⎢⎢1⎥, ⎢0⎥⎥\n",
       "⎢⎢ ⎥  ⎢ ⎥⎥\n",
       "⎣⎣0⎦  ⎣1⎦⎦"
      ]
     },
     "metadata": {},
     "output_type": "display_data"
    },
    {
     "name": "stdout",
     "output_type": "stream",
     "text": [
      "\n",
      "\n",
      "Eigenvalue:  4\n",
      "[Gram Schmidt Process]\n"
     ]
    },
    {
     "data": {
      "text/latex": [
       "$\\displaystyle v_1 = \\left[\\begin{array}{c}2\\\\1\\\\0\\end{array}\\right]$"
      ],
      "text/plain": [
       "<IPython.core.display.Math object>"
      ]
     },
     "metadata": {},
     "output_type": "display_data"
    },
    {
     "data": {
      "text/latex": [
       "$\\displaystyle v_2 = \\left[\\begin{array}{c}0\\\\0\\\\1\\end{array}\\right]- \\left(\\frac{0}{5}\\right) \\left[\\begin{array}{c}2\\\\1\\\\0\\end{array}\\right] = 1 \\left[\\begin{matrix}0\\\\0\\\\1\\end{matrix}\\right]$"
      ],
      "text/plain": [
       "<IPython.core.display.Math object>"
      ]
     },
     "metadata": {},
     "output_type": "display_data"
    },
    {
     "data": {
      "text/latex": [
       "$\\left[\\begin{array}{ccc}\\frac{2 \\sqrt{5}}{5} & 0 & - \\frac{\\sqrt{5}}{5}\\\\\\frac{\\sqrt{5}}{5} & 0 & \\frac{2 \\sqrt{5}}{5}\\\\0 & 1 & 0\\end{array}\\right]\\left[\\begin{array}{ccc}4 & 0 & 0\\\\0 & 4 & 0\\\\0 & 0 & 9\\end{array}\\right]\\left[\\begin{matrix}\\frac{2 \\sqrt{5}}{5} & \\frac{\\sqrt{5}}{5} & 0\\\\0 & 0 & 1\\\\- \\frac{\\sqrt{5}}{5} & \\frac{2 \\sqrt{5}}{5} & 0\\end{matrix}\\right]$"
      ],
      "text/plain": [
       "PDP(P=Matrix([\n",
       "[2*sqrt(5)/5, 0,  -sqrt(5)/5]\n",
       "[  sqrt(5)/5, 0, 2*sqrt(5)/5]\n",
       "[          0, 1,           0]\n",
       "]), D=Matrix([\n",
       "[4, 0, 0]\n",
       "[0, 4, 0]\n",
       "[0, 0, 9]\n",
       "]))"
      ]
     },
     "metadata": {},
     "output_type": "display_data"
    }
   ],
   "source": [
    "S = Matrix([[5, -2, 0], \n",
    "            [-2, 8, 0], \n",
    "            [0, 0, 4]])\n",
    "\n",
    "if S.is_orthogonally_diagonalizable:\n",
    "    PDP = S.orthogonally_diagonalize()\n",
    "    display(PDP)\n",
    "    # Verify S = PDP^T\n",
    "    assert S == PDP.P @ PDP.D @ PDP.P.T"
   ]
  },
  {
   "cell_type": "markdown",
   "id": "35f73061",
   "metadata": {},
   "source": [
    "### Singular Value Decomposition (SVD)"
   ]
  },
  {
   "cell_type": "code",
   "execution_count": 15,
   "id": "f327ab68",
   "metadata": {},
   "outputs": [
    {
     "name": "stdout",
     "output_type": "stream",
     "text": [
      "A^T A\n"
     ]
    },
    {
     "data": {
      "text/latex": [
       "$\\displaystyle \\left[\\begin{array}{cc}9 & 8\\\\8 & 9\\end{array}\\right]$"
      ],
      "text/plain": [
       "Matrix([\n",
       "[9, 8]\n",
       "[8, 9]\n",
       "])"
      ]
     },
     "metadata": {},
     "output_type": "display_data"
    },
    {
     "name": "stdout",
     "output_type": "stream",
     "text": [
      "Check if matrix is symmetric: True\n",
      "Characteristic Polynomial\n"
     ]
    },
    {
     "data": {
      "text/latex": [
       "$\\displaystyle \\left(x - 17\\right) \\left(x - 1\\right)$"
      ],
      "text/plain": [
       "(x - 17)⋅(x - 1)"
      ]
     },
     "metadata": {},
     "output_type": "display_data"
    },
    {
     "data": {
      "text/latex": [
       "$\\displaystyle \\text{Before RREF: }17\\mathbb{I} - \\mathrm{self}$"
      ],
      "text/plain": [
       "<IPython.core.display.Math object>"
      ]
     },
     "metadata": {},
     "output_type": "display_data"
    },
    {
     "data": {
      "text/latex": [
       "$\\displaystyle \\left[\\begin{array}{cc}8 & -8\\\\-8 & 8\\end{array}\\right]$"
      ],
      "text/plain": [
       "Matrix([\n",
       "[ 8, -8]\n",
       "[-8,  8]\n",
       "])"
      ]
     },
     "metadata": {},
     "output_type": "display_data"
    },
    {
     "name": "stdout",
     "output_type": "stream",
     "text": [
      "\n",
      "After RREF:\n"
     ]
    },
    {
     "data": {
      "text/latex": [
       "$\\text{RREF}\\left\\{\\text{rref} = \\left[\\begin{array}{cc}1 & -1\\\\0 & 0\\end{array}\\right], \\quad\\text{pivots} = (0,)\\right\\}$"
      ],
      "text/plain": [
       "RREF(rref=Matrix([\n",
       "[1, -1]\n",
       "[0,  0]\n",
       "]), pivots=(0,))"
      ]
     },
     "metadata": {},
     "output_type": "display_data"
    },
    {
     "name": "stdout",
     "output_type": "stream",
     "text": [
      "\n",
      "Eigenvectors:\n"
     ]
    },
    {
     "data": {
      "text/latex": [
       "$\\displaystyle \\left[ \\left[\\begin{matrix}1\\\\1\\end{matrix}\\right]\\right]$"
      ],
      "text/plain": [
       "⎡⎡1⎤⎤\n",
       "⎢⎢ ⎥⎥\n",
       "⎣⎣1⎦⎦"
      ]
     },
     "metadata": {},
     "output_type": "display_data"
    },
    {
     "name": "stdout",
     "output_type": "stream",
     "text": [
      "\n",
      "\n"
     ]
    },
    {
     "data": {
      "text/latex": [
       "$\\displaystyle \\text{Before RREF: }1\\mathbb{I} - \\mathrm{self}$"
      ],
      "text/plain": [
       "<IPython.core.display.Math object>"
      ]
     },
     "metadata": {},
     "output_type": "display_data"
    },
    {
     "data": {
      "text/latex": [
       "$\\displaystyle \\left[\\begin{array}{cc}-8 & -8\\\\-8 & -8\\end{array}\\right]$"
      ],
      "text/plain": [
       "Matrix([\n",
       "[-8, -8]\n",
       "[-8, -8]\n",
       "])"
      ]
     },
     "metadata": {},
     "output_type": "display_data"
    },
    {
     "name": "stdout",
     "output_type": "stream",
     "text": [
      "\n",
      "After RREF:\n"
     ]
    },
    {
     "data": {
      "text/latex": [
       "$\\text{RREF}\\left\\{\\text{rref} = \\left[\\begin{array}{cc}1 & 1\\\\0 & 0\\end{array}\\right], \\quad\\text{pivots} = (0,)\\right\\}$"
      ],
      "text/plain": [
       "RREF(rref=Matrix([\n",
       "[1, 1]\n",
       "[0, 0]\n",
       "]), pivots=(0,))"
      ]
     },
     "metadata": {},
     "output_type": "display_data"
    },
    {
     "name": "stdout",
     "output_type": "stream",
     "text": [
      "\n",
      "Eigenvectors:\n"
     ]
    },
    {
     "data": {
      "text/latex": [
       "$\\displaystyle \\left[ \\left[\\begin{matrix}-1\\\\1\\end{matrix}\\right]\\right]$"
      ],
      "text/plain": [
       "⎡⎡-1⎤⎤\n",
       "⎢⎢  ⎥⎥\n",
       "⎣⎣1 ⎦⎦"
      ]
     },
     "metadata": {},
     "output_type": "display_data"
    },
    {
     "name": "stdout",
     "output_type": "stream",
     "text": [
      "\n",
      "\n"
     ]
    },
    {
     "data": {
      "text/latex": [
       "$\\displaystyle u_1 = (1/\\sqrt{17})A\\left[\\begin{matrix}\\frac{\\sqrt{2}}{2}\\\\\\frac{\\sqrt{2}}{2}\\end{matrix}\\right] = \\left[\\begin{array}{c}\\frac{3 \\sqrt{34}}{34}\\\\\\frac{2 \\sqrt{34}}{17}\\\\\\frac{3 \\sqrt{34}}{34}\\end{array}\\right]$"
      ],
      "text/plain": [
       "<IPython.core.display.Math object>"
      ]
     },
     "metadata": {},
     "output_type": "display_data"
    },
    {
     "data": {
      "text/latex": [
       "$\\displaystyle u_2 = (1/1)A\\left[\\begin{matrix}- \\frac{\\sqrt{2}}{2}\\\\\\frac{\\sqrt{2}}{2}\\end{matrix}\\right] = \\left[\\begin{array}{c}\\frac{\\sqrt{2}}{2}\\\\0\\\\- \\frac{\\sqrt{2}}{2}\\end{array}\\right]$"
      ],
      "text/plain": [
       "<IPython.core.display.Math object>"
      ]
     },
     "metadata": {},
     "output_type": "display_data"
    },
    {
     "name": "stdout",
     "output_type": "stream",
     "text": [
      "\n",
      "Extending U with its orthogonal complement.\n",
      "Before RREF: [self]\n"
     ]
    },
    {
     "data": {
      "text/latex": [
       "$\\displaystyle \\left[\\begin{matrix}\\frac{3 \\sqrt{34}}{34} & \\frac{2 \\sqrt{34}}{17} & \\frac{3 \\sqrt{34}}{34}\\\\\\frac{\\sqrt{2}}{2} & 0 & - \\frac{\\sqrt{2}}{2}\\end{matrix}\\right]$"
      ],
      "text/plain": [
       "Matrix([\n",
       "[3*sqrt(34)/34, 2*sqrt(34)/17, 3*sqrt(34)/34],\n",
       "[    sqrt(2)/2,             0,    -sqrt(2)/2]])"
      ]
     },
     "metadata": {},
     "output_type": "display_data"
    },
    {
     "name": "stdout",
     "output_type": "stream",
     "text": [
      "\n",
      "After RREF:\n"
     ]
    },
    {
     "data": {
      "text/latex": [
       "$\\text{RREF}\\left\\{\\text{rref} = \\left[\\begin{array}{ccc}1 & 0 & -1\\\\0 & 1 & \\frac{3}{2}\\end{array}\\right], \\quad\\text{pivots} = (0, 1)\\right\\}$"
      ],
      "text/plain": [
       "RREF(rref=Matrix([\n",
       "[1, 0,  -1]\n",
       "[0, 1, 3/2]\n",
       "]), pivots=(0, 1))"
      ]
     },
     "metadata": {},
     "output_type": "display_data"
    },
    {
     "data": {
      "text/latex": [
       "$\\displaystyle v_1 = \\left[\\begin{array}{c}1\\\\- \\frac{3}{2}\\\\1\\end{array}\\right]$"
      ],
      "text/plain": [
       "<IPython.core.display.Math object>"
      ]
     },
     "metadata": {},
     "output_type": "display_data"
    },
    {
     "data": {
      "text/latex": [
       "$\\left[\\begin{array}{ccc}\\frac{3 \\sqrt{34}}{34} & \\frac{\\sqrt{2}}{2} & \\frac{2 \\sqrt{17}}{17}\\\\\\frac{2 \\sqrt{34}}{17} & 0 & - \\frac{3 \\sqrt{17}}{17}\\\\\\frac{3 \\sqrt{34}}{34} & - \\frac{\\sqrt{2}}{2} & \\frac{2 \\sqrt{17}}{17}\\end{array}\\right]\\left[\\begin{array}{cc}\\sqrt{17} & 0\\\\0 & 1\\\\0 & 0\\end{array}\\right]\\left[\\begin{array}{cc}\\frac{\\sqrt{2}}{2} & \\frac{\\sqrt{2}}{2}\\\\- \\frac{\\sqrt{2}}{2} & \\frac{\\sqrt{2}}{2}\\end{array}\\right]$"
      ],
      "text/plain": [
       "SVD(U=Matrix([\n",
       "[3*sqrt(34)/34,  sqrt(2)/2,  2*sqrt(17)/17]\n",
       "[2*sqrt(34)/17,          0, -3*sqrt(17)/17]\n",
       "[3*sqrt(34)/34, -sqrt(2)/2,  2*sqrt(17)/17]\n",
       "]), S=Matrix([\n",
       "[sqrt(17), 0]\n",
       "[       0, 1]\n",
       "[       0, 0]\n",
       "]), V=Matrix([\n",
       "[sqrt(2)/2, -sqrt(2)/2]\n",
       "[sqrt(2)/2,  sqrt(2)/2]\n",
       "]))"
      ]
     },
     "metadata": {},
     "output_type": "display_data"
    }
   ],
   "source": [
    "A = Matrix([[1, 2], \n",
    "            [2, 2], \n",
    "            [2, 1]])\n",
    "\n",
    "SVD = A.singular_value_decomposition(verbosity=1)  \n",
    "display(SVD)\n",
    "\n",
    "# Verify A = U * S * V.T\n",
    "assert A == (SVD.U @ SVD.S @ SVD.V.T)"
   ]
  },
  {
   "cell_type": "markdown",
   "id": "93744c11",
   "metadata": {},
   "source": [
    "## 6. Subspace Analysis\n",
    "\n",
    "The 4 fundamental subspaces of a matrix."
   ]
  },
  {
   "cell_type": "code",
   "execution_count": 16,
   "id": "6c5b29de",
   "metadata": {},
   "outputs": [
    {
     "name": "stdout",
     "output_type": "stream",
     "text": [
      "Column Space:\n"
     ]
    },
    {
     "data": {
      "text/latex": [
       "$\\displaystyle \\left[\\begin{array}{cc}1 & 2\\\\5 & 6\\\\9 & 10\\end{array}\\right]$"
      ],
      "text/plain": [
       "Matrix([\n",
       "[1,  2]\n",
       "[5,  6]\n",
       "[9, 10]\n",
       "])"
      ]
     },
     "metadata": {},
     "output_type": "display_data"
    },
    {
     "name": "stdout",
     "output_type": "stream",
     "text": [
      "Null Space:\n"
     ]
    },
    {
     "data": {
      "text/latex": [
       "$\\displaystyle \\left[\\begin{array}{cc}1 & 2\\\\-2 & -3\\\\1 & 0\\\\0 & 1\\end{array}\\right]$"
      ],
      "text/plain": [
       "Matrix([\n",
       "[ 1,  2]\n",
       "[-2, -3]\n",
       "[ 1,  0]\n",
       "[ 0,  1]\n",
       "])"
      ]
     },
     "metadata": {},
     "output_type": "display_data"
    },
    {
     "name": "stdout",
     "output_type": "stream",
     "text": [
      "Row Space:\n"
     ]
    },
    {
     "data": {
      "text/latex": [
       "$\\displaystyle \\left[\\begin{array}{cccc}1 & 2 & 3 & 4\\\\0 & -4 & -8 & -12\\end{array}\\right]$"
      ],
      "text/plain": [
       "Matrix([\n",
       "[1,  2,  3,   4]\n",
       "[0, -4, -8, -12]\n",
       "])"
      ]
     },
     "metadata": {},
     "output_type": "display_data"
    },
    {
     "name": "stdout",
     "output_type": "stream",
     "text": [
      "Left Null Space (Orthogonal Complement):\n"
     ]
    },
    {
     "data": {
      "text/latex": [
       "$\\displaystyle \\left[\\begin{array}{ccc}1 & -2 & 1\\end{array}\\right]$"
      ],
      "text/plain": [
       "Matrix([[1, -2, 1]\n",
       "])"
      ]
     },
     "metadata": {},
     "output_type": "display_data"
    }
   ],
   "source": [
    "A = Matrix([[1,  2,  3,  4], \n",
    "            [5,  6,  7,  8], \n",
    "            [9, 10, 11, 12]])\n",
    "\n",
    "# Column Space\n",
    "col_space = A.columnspace()\n",
    "print(\"Column Space:\")\n",
    "display(Matrix.from_list(col_space))\n",
    "\n",
    "# Null Space\n",
    "null_space = A.nullspace()\n",
    "print(\"Null Space:\")\n",
    "display(Matrix.from_list(null_space))\n",
    "\n",
    "# Row Space\n",
    "row_space = A.rowspace()\n",
    "print(\"Row Space:\")\n",
    "display(Matrix.from_list(row_space, row_join=False))\n",
    "\n",
    "# Left Null Space (Orthogonal Complement)\n",
    "orth_comp = A.orthogonal_complement().T\n",
    "print(\"Left Null Space (Orthogonal Complement):\")\n",
    "display(orth_comp)"
   ]
  }
 ],
 "metadata": {
  "kernelspec": {
   "display_name": ".venv",
   "language": "python",
   "name": "python3"
  },
  "language_info": {
   "codemirror_mode": {
    "name": "ipython",
    "version": 3
   },
   "file_extension": ".py",
   "mimetype": "text/x-python",
   "name": "python",
   "nbconvert_exporter": "python",
   "pygments_lexer": "ipython3",
   "version": "3.10.11"
  }
 },
 "nbformat": 4,
 "nbformat_minor": 5
}
